{
  "nbformat": 4,
  "nbformat_minor": 0,
  "metadata": {
    "colab": {
      "name": "autoencoder_in_keras.ipynb",
      "provenance": [],
      "collapsed_sections": [],
      "authorship_tag": "ABX9TyOTCqYbBDjQLbASOn3oW75T",
      "include_colab_link": true
    },
    "kernelspec": {
      "name": "python3",
      "display_name": "Python 3"
    }
  },
  "cells": [
    {
      "cell_type": "markdown",
      "metadata": {
        "id": "view-in-github",
        "colab_type": "text"
      },
      "source": [
        "<a href=\"https://colab.research.google.com/github/deepankar5/Autoencoder-with-keras/blob/master/autoencoder_in_keras.ipynb\" target=\"_parent\"><img src=\"https://colab.research.google.com/assets/colab-badge.svg\" alt=\"Open In Colab\"/></a>"
      ]
    },
    {
      "cell_type": "code",
      "metadata": {
        "id": "vfB66p6F2eWg"
      },
      "source": [
        "import keras\n",
        "from keras import layers\n",
        "\n",
        "encoding_dim = 32\n",
        "\n",
        "input_img = keras.Input(shape = (784,))\n",
        "\n",
        "encoded = layers.Dense(encoding_dim, activation='relu')(input_img)\n",
        "\n",
        "decoded = layers.Dense(784, activation='sigmoid')(encoded)\n",
        "\n",
        "autoencoder = keras.Model(input_img, decoded)"
      ],
      "execution_count": 1,
      "outputs": []
    },
    {
      "cell_type": "code",
      "metadata": {
        "id": "oUbreflk5Gs5"
      },
      "source": [
        "#encoder model\n",
        "\n",
        "encoder = keras.Model(input_img, encoded)"
      ],
      "execution_count": 2,
      "outputs": []
    },
    {
      "cell_type": "code",
      "metadata": {
        "id": "o5Vhfw0UH60e"
      },
      "source": [
        "# decoder model\n",
        "\n",
        "encoder_input = keras.Input(shape = (encoding_dim,))\n",
        "\n",
        "decoder_layer = autoencoder.layers[-1]\n",
        "\n",
        "decoder = keras.Model(encoder_input, decoder_layer(encoder_input))"
      ],
      "execution_count": 3,
      "outputs": []
    },
    {
      "cell_type": "code",
      "metadata": {
        "id": "ZIMmykPFIsug"
      },
      "source": [
        "#model will do per pixel binary crossentropy with adam\n",
        "\n",
        "autoencoder.compile(optimizer = 'adam', loss = 'binary_crossentropy')"
      ],
      "execution_count": 4,
      "outputs": []
    },
    {
      "cell_type": "code",
      "metadata": {
        "colab": {
          "base_uri": "https://localhost:8080/"
        },
        "id": "veNz6-NzKLGK",
        "outputId": "9f8bd46f-0322-450e-c017-15b8b82ac562"
      },
      "source": [
        "from keras.datasets import mnist\n",
        "import numpy as np\n",
        "\n",
        "(X_train, y_train), (X_test, y_test) = mnist.load_data()\n",
        "\n",
        "print(X_train.shape, X_test.shape)"
      ],
      "execution_count": 5,
      "outputs": [
        {
          "output_type": "stream",
          "text": [
            "(60000, 28, 28) (10000, 28, 28)\n"
          ],
          "name": "stdout"
        }
      ]
    },
    {
      "cell_type": "code",
      "metadata": {
        "colab": {
          "base_uri": "https://localhost:8080/"
        },
        "id": "hlsrVUsTLTCX",
        "outputId": "c980af18-241b-44de-cf31-a62c3a825df9"
      },
      "source": [
        "#normalise the each pixel\n",
        "X_train = X_train.astype('float32') / 255.\n",
        "X_test = X_test.astype('float32') / 255.\n",
        "\n",
        "#reshaping in (n, 28x28) = (n, 784)\n",
        "X_train = X_train.reshape((len(X_train), np.prod(X_train.shape[1:])))\n",
        "X_test = X_test.reshape((len(X_test), np.prod(X_test.shape[1:])))\n",
        "\n",
        "print(X_train.shape, X_test.shape)\n"
      ],
      "execution_count": 6,
      "outputs": [
        {
          "output_type": "stream",
          "text": [
            "(60000, 784) (10000, 784)\n"
          ],
          "name": "stdout"
        }
      ]
    },
    {
      "cell_type": "code",
      "metadata": {
        "colab": {
          "base_uri": "https://localhost:8080/"
        },
        "id": "nl_bA_JKNFmj",
        "outputId": "a578b1ed-78bb-419b-d808-b23abf785fd3"
      },
      "source": [
        "autoencoder.fit(X_train, X_train, batch_size= 256, epochs= 50, verbose= 2, shuffle= True, validation_data=(X_test, X_test))"
      ],
      "execution_count": 7,
      "outputs": [
        {
          "output_type": "stream",
          "text": [
            "Epoch 1/50\n",
            "235/235 - 3s - loss: 0.2756 - val_loss: 0.1887\n",
            "Epoch 2/50\n",
            "235/235 - 2s - loss: 0.1708 - val_loss: 0.1541\n",
            "Epoch 3/50\n",
            "235/235 - 2s - loss: 0.1454 - val_loss: 0.1352\n",
            "Epoch 4/50\n",
            "235/235 - 2s - loss: 0.1297 - val_loss: 0.1221\n",
            "Epoch 5/50\n",
            "235/235 - 2s - loss: 0.1190 - val_loss: 0.1133\n",
            "Epoch 6/50\n",
            "235/235 - 2s - loss: 0.1118 - val_loss: 0.1076\n",
            "Epoch 7/50\n",
            "235/235 - 2s - loss: 0.1068 - val_loss: 0.1033\n",
            "Epoch 8/50\n",
            "235/235 - 2s - loss: 0.1030 - val_loss: 0.1001\n",
            "Epoch 9/50\n",
            "235/235 - 2s - loss: 0.1001 - val_loss: 0.0976\n",
            "Epoch 10/50\n",
            "235/235 - 2s - loss: 0.0980 - val_loss: 0.0959\n",
            "Epoch 11/50\n",
            "235/235 - 2s - loss: 0.0966 - val_loss: 0.0947\n",
            "Epoch 12/50\n",
            "235/235 - 2s - loss: 0.0957 - val_loss: 0.0940\n",
            "Epoch 13/50\n",
            "235/235 - 2s - loss: 0.0951 - val_loss: 0.0935\n",
            "Epoch 14/50\n",
            "235/235 - 2s - loss: 0.0947 - val_loss: 0.0932\n",
            "Epoch 15/50\n",
            "235/235 - 2s - loss: 0.0944 - val_loss: 0.0929\n",
            "Epoch 16/50\n",
            "235/235 - 2s - loss: 0.0941 - val_loss: 0.0927\n",
            "Epoch 17/50\n",
            "235/235 - 2s - loss: 0.0939 - val_loss: 0.0925\n",
            "Epoch 18/50\n",
            "235/235 - 2s - loss: 0.0938 - val_loss: 0.0924\n",
            "Epoch 19/50\n",
            "235/235 - 2s - loss: 0.0936 - val_loss: 0.0923\n",
            "Epoch 20/50\n",
            "235/235 - 2s - loss: 0.0935 - val_loss: 0.0922\n",
            "Epoch 21/50\n",
            "235/235 - 2s - loss: 0.0934 - val_loss: 0.0921\n",
            "Epoch 22/50\n",
            "235/235 - 2s - loss: 0.0933 - val_loss: 0.0921\n",
            "Epoch 23/50\n",
            "235/235 - 2s - loss: 0.0932 - val_loss: 0.0920\n",
            "Epoch 24/50\n",
            "235/235 - 2s - loss: 0.0932 - val_loss: 0.0920\n",
            "Epoch 25/50\n",
            "235/235 - 2s - loss: 0.0931 - val_loss: 0.0919\n",
            "Epoch 26/50\n",
            "235/235 - 2s - loss: 0.0931 - val_loss: 0.0919\n",
            "Epoch 27/50\n",
            "235/235 - 2s - loss: 0.0930 - val_loss: 0.0918\n",
            "Epoch 28/50\n",
            "235/235 - 2s - loss: 0.0930 - val_loss: 0.0918\n",
            "Epoch 29/50\n",
            "235/235 - 2s - loss: 0.0930 - val_loss: 0.0918\n",
            "Epoch 30/50\n",
            "235/235 - 2s - loss: 0.0929 - val_loss: 0.0917\n",
            "Epoch 31/50\n",
            "235/235 - 2s - loss: 0.0929 - val_loss: 0.0917\n",
            "Epoch 32/50\n",
            "235/235 - 2s - loss: 0.0929 - val_loss: 0.0917\n",
            "Epoch 33/50\n",
            "235/235 - 2s - loss: 0.0928 - val_loss: 0.0917\n",
            "Epoch 34/50\n",
            "235/235 - 2s - loss: 0.0928 - val_loss: 0.0917\n",
            "Epoch 35/50\n",
            "235/235 - 2s - loss: 0.0928 - val_loss: 0.0916\n",
            "Epoch 36/50\n",
            "235/235 - 2s - loss: 0.0928 - val_loss: 0.0917\n",
            "Epoch 37/50\n",
            "235/235 - 2s - loss: 0.0927 - val_loss: 0.0916\n",
            "Epoch 38/50\n",
            "235/235 - 2s - loss: 0.0927 - val_loss: 0.0916\n",
            "Epoch 39/50\n",
            "235/235 - 2s - loss: 0.0927 - val_loss: 0.0915\n",
            "Epoch 40/50\n",
            "235/235 - 2s - loss: 0.0927 - val_loss: 0.0915\n",
            "Epoch 41/50\n",
            "235/235 - 2s - loss: 0.0927 - val_loss: 0.0915\n",
            "Epoch 42/50\n",
            "235/235 - 2s - loss: 0.0927 - val_loss: 0.0915\n",
            "Epoch 43/50\n",
            "235/235 - 2s - loss: 0.0927 - val_loss: 0.0915\n",
            "Epoch 44/50\n",
            "235/235 - 2s - loss: 0.0926 - val_loss: 0.0914\n",
            "Epoch 45/50\n",
            "235/235 - 2s - loss: 0.0926 - val_loss: 0.0915\n",
            "Epoch 46/50\n",
            "235/235 - 2s - loss: 0.0926 - val_loss: 0.0915\n",
            "Epoch 47/50\n",
            "235/235 - 2s - loss: 0.0926 - val_loss: 0.0914\n",
            "Epoch 48/50\n",
            "235/235 - 2s - loss: 0.0926 - val_loss: 0.0915\n",
            "Epoch 49/50\n",
            "235/235 - 2s - loss: 0.0926 - val_loss: 0.0916\n",
            "Epoch 50/50\n",
            "235/235 - 2s - loss: 0.0926 - val_loss: 0.0914\n"
          ],
          "name": "stdout"
        },
        {
          "output_type": "execute_result",
          "data": {
            "text/plain": [
              "<tensorflow.python.keras.callbacks.History at 0x7f408e253be0>"
            ]
          },
          "metadata": {
            "tags": []
          },
          "execution_count": 7
        }
      ]
    },
    {
      "cell_type": "code",
      "metadata": {
        "id": "dqBnKB2OfvMp"
      },
      "source": [
        "encoder_imgs = encoder.predict(X_test)\n",
        "decoder_imgs = decoder.predict(encoder_imgs)"
      ],
      "execution_count": 8,
      "outputs": []
    },
    {
      "cell_type": "code",
      "metadata": {
        "id": "k6CY0EYPgf2F"
      },
      "source": [
        "import matplotlib.pyplot as plt\n",
        "\n",
        "def plot_decode_images(decoder_array):\n",
        "  n = 10  # How many digits we will display\n",
        "  plt.figure(figsize=(20, 4))\n",
        "  for i in range(n):\n",
        "    # Display original\n",
        "    ax = plt.subplot(2, n, i + 1)\n",
        "    plt.imshow(X_test[i].reshape(28, 28), cmap = 'gray')\n",
        "    ax.get_xaxis().set_visible(False)\n",
        "    ax.get_yaxis().set_visible(False)\n",
        "\n",
        "    # Display reconstruction\n",
        "    ax = plt.subplot(2, n, i + 1 + n)\n",
        "    plt.imshow(decoder_array[i].reshape(28, 28), cmap = 'gray')\n",
        "    ax.get_xaxis().set_visible(False)\n",
        "    ax.get_yaxis().set_visible(False)\n",
        "  plt.show()\n",
        "\n"
      ],
      "execution_count": 9,
      "outputs": []
    },
    {
      "cell_type": "code",
      "metadata": {
        "colab": {
          "base_uri": "https://localhost:8080/",
          "height": 248
        },
        "id": "zJ4H8hn1hSAc",
        "outputId": "2bb2723a-6473-4df8-ace8-71e4c0c9dcf2"
      },
      "source": [
        "plot_decode_images(decoder_imgs)"
      ],
      "execution_count": 10,
      "outputs": [
        {
          "output_type": "display_data",
          "data": {
            "image/png": "[encoded data removed]",
            "text/plain": [
              "<Figure size 1440x288 with 20 Axes>"
            ]
          },
          "metadata": {
            "tags": [],
            "needs_background": "light"
          }
        }
      ]
    },
    {
      "cell_type": "code",
      "metadata": {
        "id": "KDTvA9Aw8tFZ"
      },
      "source": [
        "from keras import regularizers\n",
        "\n",
        "encoding_dim = 32\n",
        "\n",
        "input_img = keras.Input(shape=(784,))\n",
        "# Add a Dense layer with a L1 activity regularizer\n",
        "encoded = layers.Dense(encoding_dim, activation='relu',\n",
        "                activity_regularizer=regularizers.l1(10e-5))(input_img)\n",
        "decoded = layers.Dense(784, activation='sigmoid')(encoded)\n",
        "\n",
        "autoencoder = keras.Model(input_img, decoded)"
      ],
      "execution_count": 83,
      "outputs": []
    },
    {
      "cell_type": "code",
      "metadata": {
        "id": "oIJ2louy-Tnw"
      },
      "source": [
        "autoencoder.compile(optimizer = 'adam', loss = 'binary_crossentropy')"
      ],
      "execution_count": 84,
      "outputs": []
    },
    {
      "cell_type": "code",
      "metadata": {
        "colab": {
          "base_uri": "https://localhost:8080/"
        },
        "id": "DfxmAUPp-pUU",
        "outputId": "cea4f615-29c2-48d0-9142-d91cf564a985"
      },
      "source": [
        "autoencoder.fit(X_train, X_train, batch_size= 256, epochs= 100, verbose= 2, shuffle= True, validation_data=(X_test, X_test), use_multiprocessing= True)"
      ],
      "execution_count": 85,
      "outputs": [
        {
          "output_type": "stream",
          "text": [
            "Epoch 1/100\n",
            "235/235 - 3s - loss: 0.2829 - val_loss: 0.1930\n",
            "Epoch 2/100\n",
            "235/235 - 2s - loss: 0.1755 - val_loss: 0.1592\n",
            "Epoch 3/100\n",
            "235/235 - 2s - loss: 0.1512 - val_loss: 0.1418\n",
            "Epoch 4/100\n",
            "235/235 - 2s - loss: 0.1373 - val_loss: 0.1308\n",
            "Epoch 5/100\n",
            "235/235 - 2s - loss: 0.1282 - val_loss: 0.1234\n",
            "Epoch 6/100\n",
            "235/235 - 2s - loss: 0.1216 - val_loss: 0.1177\n",
            "Epoch 7/100\n",
            "235/235 - 2s - loss: 0.1167 - val_loss: 0.1134\n",
            "Epoch 8/100\n",
            "235/235 - 2s - loss: 0.1130 - val_loss: 0.1104\n",
            "Epoch 9/100\n",
            "235/235 - 2s - loss: 0.1105 - val_loss: 0.1083\n",
            "Epoch 10/100\n",
            "235/235 - 2s - loss: 0.1088 - val_loss: 0.1068\n",
            "Epoch 11/100\n",
            "235/235 - 2s - loss: 0.1075 - val_loss: 0.1058\n",
            "Epoch 12/100\n",
            "235/235 - 2s - loss: 0.1066 - val_loss: 0.1050\n",
            "Epoch 13/100\n",
            "235/235 - 2s - loss: 0.1059 - val_loss: 0.1043\n",
            "Epoch 14/100\n",
            "235/235 - 2s - loss: 0.1053 - val_loss: 0.1038\n",
            "Epoch 15/100\n",
            "235/235 - 2s - loss: 0.1048 - val_loss: 0.1033\n",
            "Epoch 16/100\n",
            "235/235 - 2s - loss: 0.1043 - val_loss: 0.1029\n",
            "Epoch 17/100\n",
            "235/235 - 2s - loss: 0.1039 - val_loss: 0.1025\n",
            "Epoch 18/100\n",
            "235/235 - 2s - loss: 0.1035 - val_loss: 0.1021\n",
            "Epoch 19/100\n",
            "235/235 - 2s - loss: 0.1032 - val_loss: 0.1019\n",
            "Epoch 20/100\n",
            "235/235 - 2s - loss: 0.1029 - val_loss: 0.1016\n",
            "Epoch 21/100\n",
            "235/235 - 2s - loss: 0.1026 - val_loss: 0.1014\n",
            "Epoch 22/100\n",
            "235/235 - 2s - loss: 0.1024 - val_loss: 0.1011\n",
            "Epoch 23/100\n",
            "235/235 - 2s - loss: 0.1022 - val_loss: 0.1009\n",
            "Epoch 24/100\n",
            "235/235 - 2s - loss: 0.1019 - val_loss: 0.1007\n",
            "Epoch 25/100\n",
            "235/235 - 2s - loss: 0.1017 - val_loss: 0.1005\n",
            "Epoch 26/100\n",
            "235/235 - 2s - loss: 0.1015 - val_loss: 0.1004\n",
            "Epoch 27/100\n",
            "235/235 - 2s - loss: 0.1014 - val_loss: 0.1001\n",
            "Epoch 28/100\n",
            "235/235 - 2s - loss: 0.1012 - val_loss: 0.0999\n",
            "Epoch 29/100\n",
            "235/235 - 2s - loss: 0.1010 - val_loss: 0.0998\n",
            "Epoch 30/100\n",
            "235/235 - 2s - loss: 0.1009 - val_loss: 0.0997\n",
            "Epoch 31/100\n",
            "235/235 - 2s - loss: 0.1007 - val_loss: 0.0995\n",
            "Epoch 32/100\n",
            "235/235 - 2s - loss: 0.1006 - val_loss: 0.0994\n",
            "Epoch 33/100\n",
            "235/235 - 2s - loss: 0.1004 - val_loss: 0.0992\n",
            "Epoch 34/100\n",
            "235/235 - 2s - loss: 0.1003 - val_loss: 0.0992\n",
            "Epoch 35/100\n",
            "235/235 - 2s - loss: 0.1002 - val_loss: 0.0990\n",
            "Epoch 36/100\n",
            "235/235 - 2s - loss: 0.1001 - val_loss: 0.0989\n",
            "Epoch 37/100\n",
            "235/235 - 2s - loss: 0.1000 - val_loss: 0.0988\n",
            "Epoch 38/100\n",
            "235/235 - 2s - loss: 0.0998 - val_loss: 0.0987\n",
            "Epoch 39/100\n",
            "235/235 - 2s - loss: 0.0998 - val_loss: 0.0986\n",
            "Epoch 40/100\n",
            "235/235 - 2s - loss: 0.0996 - val_loss: 0.0985\n",
            "Epoch 41/100\n",
            "235/235 - 2s - loss: 0.0996 - val_loss: 0.0985\n",
            "Epoch 42/100\n",
            "235/235 - 2s - loss: 0.0994 - val_loss: 0.0983\n",
            "Epoch 43/100\n",
            "235/235 - 2s - loss: 0.0994 - val_loss: 0.0983\n",
            "Epoch 44/100\n",
            "235/235 - 2s - loss: 0.0993 - val_loss: 0.0981\n",
            "Epoch 45/100\n",
            "235/235 - 2s - loss: 0.0992 - val_loss: 0.0981\n",
            "Epoch 46/100\n",
            "235/235 - 2s - loss: 0.0991 - val_loss: 0.0980\n",
            "Epoch 47/100\n",
            "235/235 - 2s - loss: 0.0990 - val_loss: 0.0979\n",
            "Epoch 48/100\n",
            "235/235 - 2s - loss: 0.0990 - val_loss: 0.0978\n",
            "Epoch 49/100\n",
            "235/235 - 2s - loss: 0.0989 - val_loss: 0.0978\n",
            "Epoch 50/100\n",
            "235/235 - 2s - loss: 0.0988 - val_loss: 0.0977\n",
            "Epoch 51/100\n",
            "235/235 - 2s - loss: 0.0987 - val_loss: 0.0977\n",
            "Epoch 52/100\n",
            "235/235 - 2s - loss: 0.0987 - val_loss: 0.0975\n",
            "Epoch 53/100\n",
            "235/235 - 2s - loss: 0.0986 - val_loss: 0.0975\n",
            "Epoch 54/100\n",
            "235/235 - 2s - loss: 0.0985 - val_loss: 0.0974\n",
            "Epoch 55/100\n",
            "235/235 - 2s - loss: 0.0985 - val_loss: 0.0974\n",
            "Epoch 56/100\n",
            "235/235 - 2s - loss: 0.0984 - val_loss: 0.0973\n",
            "Epoch 57/100\n",
            "235/235 - 2s - loss: 0.0984 - val_loss: 0.0973\n",
            "Epoch 58/100\n",
            "235/235 - 2s - loss: 0.0983 - val_loss: 0.0972\n",
            "Epoch 59/100\n",
            "235/235 - 2s - loss: 0.0982 - val_loss: 0.0971\n",
            "Epoch 60/100\n",
            "235/235 - 2s - loss: 0.0982 - val_loss: 0.0971\n",
            "Epoch 61/100\n",
            "235/235 - 2s - loss: 0.0981 - val_loss: 0.0970\n",
            "Epoch 62/100\n",
            "235/235 - 2s - loss: 0.0981 - val_loss: 0.0970\n",
            "Epoch 63/100\n",
            "235/235 - 2s - loss: 0.0980 - val_loss: 0.0970\n",
            "Epoch 64/100\n",
            "235/235 - 2s - loss: 0.0980 - val_loss: 0.0970\n",
            "Epoch 65/100\n",
            "235/235 - 2s - loss: 0.0979 - val_loss: 0.0969\n",
            "Epoch 66/100\n",
            "235/235 - 2s - loss: 0.0979 - val_loss: 0.0968\n",
            "Epoch 67/100\n",
            "235/235 - 2s - loss: 0.0978 - val_loss: 0.0968\n",
            "Epoch 68/100\n",
            "235/235 - 2s - loss: 0.0978 - val_loss: 0.0968\n",
            "Epoch 69/100\n",
            "235/235 - 2s - loss: 0.0977 - val_loss: 0.0967\n",
            "Epoch 70/100\n",
            "235/235 - 2s - loss: 0.0977 - val_loss: 0.0967\n",
            "Epoch 71/100\n",
            "235/235 - 2s - loss: 0.0976 - val_loss: 0.0966\n",
            "Epoch 72/100\n",
            "235/235 - 2s - loss: 0.0976 - val_loss: 0.0965\n",
            "Epoch 73/100\n",
            "235/235 - 2s - loss: 0.0976 - val_loss: 0.0965\n",
            "Epoch 74/100\n",
            "235/235 - 2s - loss: 0.0975 - val_loss: 0.0965\n",
            "Epoch 75/100\n",
            "235/235 - 2s - loss: 0.0975 - val_loss: 0.0965\n",
            "Epoch 76/100\n",
            "235/235 - 2s - loss: 0.0975 - val_loss: 0.0964\n",
            "Epoch 77/100\n",
            "235/235 - 2s - loss: 0.0974 - val_loss: 0.0963\n",
            "Epoch 78/100\n",
            "235/235 - 2s - loss: 0.0974 - val_loss: 0.0963\n",
            "Epoch 79/100\n",
            "235/235 - 2s - loss: 0.0973 - val_loss: 0.0963\n",
            "Epoch 80/100\n",
            "235/235 - 2s - loss: 0.0973 - val_loss: 0.0963\n",
            "Epoch 81/100\n",
            "235/235 - 2s - loss: 0.0973 - val_loss: 0.0962\n",
            "Epoch 82/100\n",
            "235/235 - 2s - loss: 0.0972 - val_loss: 0.0962\n",
            "Epoch 83/100\n",
            "235/235 - 2s - loss: 0.0972 - val_loss: 0.0962\n",
            "Epoch 84/100\n",
            "235/235 - 2s - loss: 0.0972 - val_loss: 0.0961\n",
            "Epoch 85/100\n",
            "235/235 - 2s - loss: 0.0971 - val_loss: 0.0961\n",
            "Epoch 86/100\n",
            "235/235 - 2s - loss: 0.0971 - val_loss: 0.0961\n",
            "Epoch 87/100\n",
            "235/235 - 2s - loss: 0.0971 - val_loss: 0.0960\n",
            "Epoch 88/100\n",
            "235/235 - 2s - loss: 0.0970 - val_loss: 0.0960\n",
            "Epoch 89/100\n",
            "235/235 - 2s - loss: 0.0970 - val_loss: 0.0959\n",
            "Epoch 90/100\n",
            "235/235 - 2s - loss: 0.0970 - val_loss: 0.0959\n",
            "Epoch 91/100\n",
            "235/235 - 2s - loss: 0.0969 - val_loss: 0.0959\n",
            "Epoch 92/100\n",
            "235/235 - 2s - loss: 0.0969 - val_loss: 0.0960\n",
            "Epoch 93/100\n",
            "235/235 - 2s - loss: 0.0969 - val_loss: 0.0959\n",
            "Epoch 94/100\n",
            "235/235 - 2s - loss: 0.0969 - val_loss: 0.0958\n",
            "Epoch 95/100\n",
            "235/235 - 2s - loss: 0.0968 - val_loss: 0.0958\n",
            "Epoch 96/100\n",
            "235/235 - 2s - loss: 0.0968 - val_loss: 0.0957\n",
            "Epoch 97/100\n",
            "235/235 - 2s - loss: 0.0968 - val_loss: 0.0957\n",
            "Epoch 98/100\n",
            "235/235 - 2s - loss: 0.0967 - val_loss: 0.0958\n",
            "Epoch 99/100\n",
            "235/235 - 2s - loss: 0.0967 - val_loss: 0.0957\n",
            "Epoch 100/100\n",
            "235/235 - 2s - loss: 0.0967 - val_loss: 0.0956\n"
          ],
          "name": "stdout"
        },
        {
          "output_type": "execute_result",
          "data": {
            "text/plain": [
              "<tensorflow.python.keras.callbacks.History at 0x7f40820930b8>"
            ]
          },
          "metadata": {
            "tags": []
          },
          "execution_count": 85
        }
      ]
    },
    {
      "cell_type": "code",
      "metadata": {
        "id": "dkHIZ4Ik-xJX"
      },
      "source": [
        "#encoder model\n",
        "\n",
        "encoder = keras.Model(input_img, encoded)\n",
        "\n",
        "encoder_imgs_1 = encoder.predict(X_test)\n",
        "decoder_imgs_1 = autoencoder.predict(X_test)"
      ],
      "execution_count": 86,
      "outputs": []
    },
    {
      "cell_type": "code",
      "metadata": {
        "colab": {
          "base_uri": "https://localhost:8080/",
          "height": 248
        },
        "id": "o_FvWDecAP4A",
        "outputId": "ca1dcdd5-e773-4b04-c3ec-1fa05852efc3"
      },
      "source": [
        "plot_decode_images(decoder_imgs_1)"
      ],
      "execution_count": 87,
      "outputs": [
        {
          "output_type": "display_data",
          "data": {
            "image/png": "[encoded data removed]",
            "text/plain": [
              "<Figure size 1440x288 with 20 Axes>"
            ]
          },
          "metadata": {
            "tags": [],
            "needs_background": "light"
          }
        }
      ]
    },
    {
      "cell_type": "code",
      "metadata": {
        "colab": {
          "base_uri": "https://localhost:8080/"
        },
        "id": "LDzhzSpnAVV0",
        "outputId": "916627cb-9088-49da-b734-075ac3c07cd1"
      },
      "source": [
        "encoder_imgs_1.mean()"
      ],
      "execution_count": 88,
      "outputs": [
        {
          "output_type": "execute_result",
          "data": {
            "text/plain": [
              "1.2674607"
            ]
          },
          "metadata": {
            "tags": []
          },
          "execution_count": 88
        }
      ]
    },
    {
      "cell_type": "code",
      "metadata": {
        "id": "2SYtzm67EHSD"
      },
      "source": [
        "# deep encoders\n",
        "\n",
        "input_img  = keras.Input(shape=(784,))\n",
        "encoded = layers.Dense(128, activation='relu')(input_img)\n",
        "encoded = layers.Dense(64, activation='relu')(encoded)\n",
        "encoded = layers.Dense(32, activation='relu')(encoded)\n",
        "\n",
        "decoded = layers.Dense(64, activation='relu')(encoded)\n",
        "decoded = layers.Dense(128, activation='relu')(decoded)\n",
        "decoded = layers.Dense(784, activation='sigmoid')(decoded)\n"
      ],
      "execution_count": 26,
      "outputs": []
    },
    {
      "cell_type": "code",
      "metadata": {
        "colab": {
          "base_uri": "https://localhost:8080/"
        },
        "id": "_yNjDlAIE1Ze",
        "outputId": "17b3b248-9e14-41aa-cd9f-93efa018d63f"
      },
      "source": [
        "autoencoder = keras.Model(input_img, decoded)\n",
        "autoencoder.compile(optimizer='adam', loss='binary_crossentropy')\n",
        "\n",
        "autoencoder.fit(X_train, X_train,\n",
        "                epochs=100,\n",
        "                batch_size=256,\n",
        "                shuffle=True,\n",
        "                validation_data=(X_test, X_test))"
      ],
      "execution_count": 29,
      "outputs": [
        {
          "output_type": "stream",
          "text": [
            "Epoch 1/100\n",
            "235/235 [==============================] - 4s 16ms/step - loss: 0.3335 - val_loss: 0.1656\n",
            "Epoch 2/100\n",
            "235/235 [==============================] - 4s 15ms/step - loss: 0.1571 - val_loss: 0.1347\n",
            "Epoch 3/100\n",
            "235/235 [==============================] - 4s 16ms/step - loss: 0.1322 - val_loss: 0.1204\n",
            "Epoch 4/100\n",
            "235/235 [==============================] - 4s 15ms/step - loss: 0.1203 - val_loss: 0.1153\n",
            "Epoch 5/100\n",
            "235/235 [==============================] - 4s 15ms/step - loss: 0.1148 - val_loss: 0.1103\n",
            "Epoch 6/100\n",
            "235/235 [==============================] - 4s 15ms/step - loss: 0.1107 - val_loss: 0.1065\n",
            "Epoch 7/100\n",
            "235/235 [==============================] - 4s 15ms/step - loss: 0.1072 - val_loss: 0.1037\n",
            "Epoch 8/100\n",
            "235/235 [==============================] - 4s 15ms/step - loss: 0.1044 - val_loss: 0.1015\n",
            "Epoch 9/100\n",
            "235/235 [==============================] - 4s 16ms/step - loss: 0.1021 - val_loss: 0.0995\n",
            "Epoch 10/100\n",
            "235/235 [==============================] - 4s 16ms/step - loss: 0.1004 - val_loss: 0.0977\n",
            "Epoch 11/100\n",
            "235/235 [==============================] - 4s 15ms/step - loss: 0.0987 - val_loss: 0.0963\n",
            "Epoch 12/100\n",
            "235/235 [==============================] - 4s 16ms/step - loss: 0.0974 - val_loss: 0.0953\n",
            "Epoch 13/100\n",
            "235/235 [==============================] - 4s 16ms/step - loss: 0.0958 - val_loss: 0.0942\n",
            "Epoch 14/100\n",
            "235/235 [==============================] - 4s 16ms/step - loss: 0.0949 - val_loss: 0.0936\n",
            "Epoch 15/100\n",
            "235/235 [==============================] - 4s 16ms/step - loss: 0.0940 - val_loss: 0.0925\n",
            "Epoch 16/100\n",
            "235/235 [==============================] - 4s 16ms/step - loss: 0.0930 - val_loss: 0.0917\n",
            "Epoch 17/100\n",
            "235/235 [==============================] - 4s 17ms/step - loss: 0.0924 - val_loss: 0.0909\n",
            "Epoch 18/100\n",
            "235/235 [==============================] - 4s 17ms/step - loss: 0.0919 - val_loss: 0.0907\n",
            "Epoch 19/100\n",
            "235/235 [==============================] - 4s 16ms/step - loss: 0.0915 - val_loss: 0.0901\n",
            "Epoch 20/100\n",
            "235/235 [==============================] - 4s 16ms/step - loss: 0.0908 - val_loss: 0.0895\n",
            "Epoch 21/100\n",
            "235/235 [==============================] - 4s 16ms/step - loss: 0.0904 - val_loss: 0.0893\n",
            "Epoch 22/100\n",
            "235/235 [==============================] - 4s 16ms/step - loss: 0.0898 - val_loss: 0.0889\n",
            "Epoch 23/100\n",
            "235/235 [==============================] - 4s 16ms/step - loss: 0.0895 - val_loss: 0.0886\n",
            "Epoch 24/100\n",
            "235/235 [==============================] - 4s 16ms/step - loss: 0.0890 - val_loss: 0.0879\n",
            "Epoch 25/100\n",
            "235/235 [==============================] - 4s 16ms/step - loss: 0.0886 - val_loss: 0.0879\n",
            "Epoch 26/100\n",
            "235/235 [==============================] - 4s 16ms/step - loss: 0.0883 - val_loss: 0.0880\n",
            "Epoch 27/100\n",
            "235/235 [==============================] - 4s 16ms/step - loss: 0.0881 - val_loss: 0.0874\n",
            "Epoch 28/100\n",
            "235/235 [==============================] - 4s 16ms/step - loss: 0.0876 - val_loss: 0.0870\n",
            "Epoch 29/100\n",
            "235/235 [==============================] - 4s 16ms/step - loss: 0.0875 - val_loss: 0.0869\n",
            "Epoch 30/100\n",
            "235/235 [==============================] - 4s 16ms/step - loss: 0.0870 - val_loss: 0.0868\n",
            "Epoch 31/100\n",
            "235/235 [==============================] - 4s 16ms/step - loss: 0.0868 - val_loss: 0.0865\n",
            "Epoch 32/100\n",
            "235/235 [==============================] - 4s 16ms/step - loss: 0.0867 - val_loss: 0.0859\n",
            "Epoch 33/100\n",
            "235/235 [==============================] - 4s 16ms/step - loss: 0.0864 - val_loss: 0.0855\n",
            "Epoch 34/100\n",
            "235/235 [==============================] - 4s 16ms/step - loss: 0.0862 - val_loss: 0.0854\n",
            "Epoch 35/100\n",
            "235/235 [==============================] - 4s 16ms/step - loss: 0.0858 - val_loss: 0.0853\n",
            "Epoch 36/100\n",
            "235/235 [==============================] - 4s 16ms/step - loss: 0.0857 - val_loss: 0.0853\n",
            "Epoch 37/100\n",
            "235/235 [==============================] - 4s 16ms/step - loss: 0.0851 - val_loss: 0.0848\n",
            "Epoch 38/100\n",
            "235/235 [==============================] - 4s 16ms/step - loss: 0.0854 - val_loss: 0.0850\n",
            "Epoch 39/100\n",
            "235/235 [==============================] - 4s 16ms/step - loss: 0.0851 - val_loss: 0.0845\n",
            "Epoch 40/100\n",
            "235/235 [==============================] - 4s 16ms/step - loss: 0.0848 - val_loss: 0.0845\n",
            "Epoch 41/100\n",
            "235/235 [==============================] - 4s 16ms/step - loss: 0.0849 - val_loss: 0.0844\n",
            "Epoch 42/100\n",
            "235/235 [==============================] - 4s 16ms/step - loss: 0.0845 - val_loss: 0.0839\n",
            "Epoch 43/100\n",
            "235/235 [==============================] - 4s 16ms/step - loss: 0.0845 - val_loss: 0.0840\n",
            "Epoch 44/100\n",
            "235/235 [==============================] - 4s 16ms/step - loss: 0.0843 - val_loss: 0.0838\n",
            "Epoch 45/100\n",
            "235/235 [==============================] - 4s 16ms/step - loss: 0.0840 - val_loss: 0.0837\n",
            "Epoch 46/100\n",
            "235/235 [==============================] - 4s 16ms/step - loss: 0.0840 - val_loss: 0.0837\n",
            "Epoch 47/100\n",
            "235/235 [==============================] - 4s 17ms/step - loss: 0.0841 - val_loss: 0.0834\n",
            "Epoch 48/100\n",
            "235/235 [==============================] - 4s 16ms/step - loss: 0.0839 - val_loss: 0.0835\n",
            "Epoch 49/100\n",
            "235/235 [==============================] - 4s 16ms/step - loss: 0.0836 - val_loss: 0.0834\n",
            "Epoch 50/100\n",
            "235/235 [==============================] - 4s 16ms/step - loss: 0.0836 - val_loss: 0.0832\n",
            "Epoch 51/100\n",
            "235/235 [==============================] - 4s 16ms/step - loss: 0.0836 - val_loss: 0.0831\n",
            "Epoch 52/100\n",
            "235/235 [==============================] - 4s 16ms/step - loss: 0.0833 - val_loss: 0.0830\n",
            "Epoch 53/100\n",
            "235/235 [==============================] - 4s 16ms/step - loss: 0.0833 - val_loss: 0.0829\n",
            "Epoch 54/100\n",
            "235/235 [==============================] - 4s 16ms/step - loss: 0.0830 - val_loss: 0.0828\n",
            "Epoch 55/100\n",
            "235/235 [==============================] - 4s 16ms/step - loss: 0.0832 - val_loss: 0.0827\n",
            "Epoch 56/100\n",
            "235/235 [==============================] - 4s 16ms/step - loss: 0.0830 - val_loss: 0.0827\n",
            "Epoch 57/100\n",
            "235/235 [==============================] - 4s 17ms/step - loss: 0.0830 - val_loss: 0.0827\n",
            "Epoch 58/100\n",
            "235/235 [==============================] - 4s 16ms/step - loss: 0.0830 - val_loss: 0.0825\n",
            "Epoch 59/100\n",
            "235/235 [==============================] - 4s 16ms/step - loss: 0.0827 - val_loss: 0.0825\n",
            "Epoch 60/100\n",
            "235/235 [==============================] - 4s 16ms/step - loss: 0.0829 - val_loss: 0.0822\n",
            "Epoch 61/100\n",
            "235/235 [==============================] - 4s 16ms/step - loss: 0.0827 - val_loss: 0.0825\n",
            "Epoch 62/100\n",
            "235/235 [==============================] - 4s 16ms/step - loss: 0.0824 - val_loss: 0.0823\n",
            "Epoch 63/100\n",
            "235/235 [==============================] - 4s 16ms/step - loss: 0.0823 - val_loss: 0.0824\n",
            "Epoch 64/100\n",
            "235/235 [==============================] - 4s 16ms/step - loss: 0.0824 - val_loss: 0.0820\n",
            "Epoch 65/100\n",
            "235/235 [==============================] - 4s 16ms/step - loss: 0.0823 - val_loss: 0.0819\n",
            "Epoch 66/100\n",
            "235/235 [==============================] - 4s 16ms/step - loss: 0.0820 - val_loss: 0.0822\n",
            "Epoch 67/100\n",
            "235/235 [==============================] - 4s 16ms/step - loss: 0.0821 - val_loss: 0.0820\n",
            "Epoch 68/100\n",
            "235/235 [==============================] - 4s 16ms/step - loss: 0.0821 - val_loss: 0.0817\n",
            "Epoch 69/100\n",
            "235/235 [==============================] - 4s 16ms/step - loss: 0.0820 - val_loss: 0.0819\n",
            "Epoch 70/100\n",
            "235/235 [==============================] - 4s 16ms/step - loss: 0.0822 - val_loss: 0.0816\n",
            "Epoch 71/100\n",
            "235/235 [==============================] - 4s 16ms/step - loss: 0.0818 - val_loss: 0.0817\n",
            "Epoch 72/100\n",
            "235/235 [==============================] - 4s 16ms/step - loss: 0.0819 - val_loss: 0.0818\n",
            "Epoch 73/100\n",
            "235/235 [==============================] - 4s 16ms/step - loss: 0.0817 - val_loss: 0.0816\n",
            "Epoch 74/100\n",
            "235/235 [==============================] - 4s 16ms/step - loss: 0.0819 - val_loss: 0.0817\n",
            "Epoch 75/100\n",
            "235/235 [==============================] - 4s 17ms/step - loss: 0.0816 - val_loss: 0.0817\n",
            "Epoch 76/100\n",
            "235/235 [==============================] - 4s 17ms/step - loss: 0.0816 - val_loss: 0.0814\n",
            "Epoch 77/100\n",
            "235/235 [==============================] - 4s 17ms/step - loss: 0.0817 - val_loss: 0.0814\n",
            "Epoch 78/100\n",
            "235/235 [==============================] - 4s 17ms/step - loss: 0.0816 - val_loss: 0.0813\n",
            "Epoch 79/100\n",
            "235/235 [==============================] - 4s 16ms/step - loss: 0.0815 - val_loss: 0.0813\n",
            "Epoch 80/100\n",
            "235/235 [==============================] - 4s 16ms/step - loss: 0.0813 - val_loss: 0.0814\n",
            "Epoch 81/100\n",
            "235/235 [==============================] - 4s 16ms/step - loss: 0.0813 - val_loss: 0.0812\n",
            "Epoch 82/100\n",
            "235/235 [==============================] - 4s 16ms/step - loss: 0.0814 - val_loss: 0.0813\n",
            "Epoch 83/100\n",
            "235/235 [==============================] - 4s 16ms/step - loss: 0.0814 - val_loss: 0.0812\n",
            "Epoch 84/100\n",
            "235/235 [==============================] - 4s 16ms/step - loss: 0.0814 - val_loss: 0.0814\n",
            "Epoch 85/100\n",
            "235/235 [==============================] - 4s 16ms/step - loss: 0.0814 - val_loss: 0.0816\n",
            "Epoch 86/100\n",
            "235/235 [==============================] - 4s 17ms/step - loss: 0.0811 - val_loss: 0.0812\n",
            "Epoch 87/100\n",
            "235/235 [==============================] - 4s 17ms/step - loss: 0.0813 - val_loss: 0.0812\n",
            "Epoch 88/100\n",
            "235/235 [==============================] - 4s 17ms/step - loss: 0.0811 - val_loss: 0.0813\n",
            "Epoch 89/100\n",
            "235/235 [==============================] - 4s 16ms/step - loss: 0.0813 - val_loss: 0.0809\n",
            "Epoch 90/100\n",
            "235/235 [==============================] - 4s 16ms/step - loss: 0.0812 - val_loss: 0.0812\n",
            "Epoch 91/100\n",
            "235/235 [==============================] - 4s 17ms/step - loss: 0.0811 - val_loss: 0.0811\n",
            "Epoch 92/100\n",
            "235/235 [==============================] - 4s 17ms/step - loss: 0.0812 - val_loss: 0.0810\n",
            "Epoch 93/100\n",
            "235/235 [==============================] - 4s 17ms/step - loss: 0.0810 - val_loss: 0.0808\n",
            "Epoch 94/100\n",
            "235/235 [==============================] - 4s 17ms/step - loss: 0.0810 - val_loss: 0.0809\n",
            "Epoch 95/100\n",
            "235/235 [==============================] - 4s 17ms/step - loss: 0.0812 - val_loss: 0.0808\n",
            "Epoch 96/100\n",
            "235/235 [==============================] - 4s 17ms/step - loss: 0.0810 - val_loss: 0.0809\n",
            "Epoch 97/100\n",
            "235/235 [==============================] - 4s 17ms/step - loss: 0.0807 - val_loss: 0.0806\n",
            "Epoch 98/100\n",
            "235/235 [==============================] - 4s 17ms/step - loss: 0.0808 - val_loss: 0.0806\n",
            "Epoch 99/100\n",
            "235/235 [==============================] - 4s 17ms/step - loss: 0.0807 - val_loss: 0.0811\n",
            "Epoch 100/100\n",
            "235/235 [==============================] - 4s 16ms/step - loss: 0.0809 - val_loss: 0.0808\n"
          ],
          "name": "stdout"
        },
        {
          "output_type": "execute_result",
          "data": {
            "text/plain": [
              "<tensorflow.python.keras.callbacks.History at 0x7f40821dc630>"
            ]
          },
          "metadata": {
            "tags": []
          },
          "execution_count": 29
        }
      ]
    },
    {
      "cell_type": "code",
      "metadata": {
        "colab": {
          "base_uri": "https://localhost:8080/"
        },
        "id": "9vF1Qp0CH01b",
        "outputId": "e1678bc8-e00b-492d-d47b-bbe571340424"
      },
      "source": [
        "autoencoder.summary()"
      ],
      "execution_count": 77,
      "outputs": [
        {
          "output_type": "stream",
          "text": [
            "Model: \"model_14\"\n",
            "_________________________________________________________________\n",
            "Layer (type)                 Output Shape              Param #   \n",
            "=================================================================\n",
            "input_8 (InputLayer)         [(None, 784)]             0         \n",
            "_________________________________________________________________\n",
            "dense_6 (Dense)              (None, 128)               100480    \n",
            "_________________________________________________________________\n",
            "dense_7 (Dense)              (None, 64)                8256      \n",
            "_________________________________________________________________\n",
            "dense_8 (Dense)              (None, 32)                2080      \n",
            "_________________________________________________________________\n",
            "dense_9 (Dense)              (None, 64)                2112      \n",
            "_________________________________________________________________\n",
            "dense_10 (Dense)             (None, 128)               8320      \n",
            "_________________________________________________________________\n",
            "dense_11 (Dense)             (None, 784)               101136    \n",
            "=================================================================\n",
            "Total params: 222,384\n",
            "Trainable params: 222,384\n",
            "Non-trainable params: 0\n",
            "_________________________________________________________________\n"
          ],
          "name": "stdout"
        }
      ]
    },
    {
      "cell_type": "code",
      "metadata": {
        "colab": {
          "base_uri": "https://localhost:8080/"
        },
        "id": "ShYQ0BJ4Xzf2",
        "outputId": "506e7fa9-8360-4c9a-f4a9-83b7e29d31c3"
      },
      "source": [
        "encoder_model = keras.Model(input_img, encoded)\n",
        "\n",
        "encoder_model.summary()"
      ],
      "execution_count": 78,
      "outputs": [
        {
          "output_type": "stream",
          "text": [
            "Model: \"model_41\"\n",
            "_________________________________________________________________\n",
            "Layer (type)                 Output Shape              Param #   \n",
            "=================================================================\n",
            "input_8 (InputLayer)         [(None, 784)]             0         \n",
            "_________________________________________________________________\n",
            "dense_6 (Dense)              (None, 128)               100480    \n",
            "_________________________________________________________________\n",
            "dense_7 (Dense)              (None, 64)                8256      \n",
            "_________________________________________________________________\n",
            "dense_8 (Dense)              (None, 32)                2080      \n",
            "=================================================================\n",
            "Total params: 110,816\n",
            "Trainable params: 110,816\n",
            "Non-trainable params: 0\n",
            "_________________________________________________________________\n"
          ],
          "name": "stdout"
        }
      ]
    },
    {
      "cell_type": "code",
      "metadata": {
        "id": "s0I3fWuWYVCT"
      },
      "source": [
        "encoded_images = encoder_model.predict(X_test)\n",
        "decoded_images = autoencoder.predict(X_test)"
      ],
      "execution_count": 80,
      "outputs": []
    },
    {
      "cell_type": "code",
      "metadata": {
        "colab": {
          "base_uri": "https://localhost:8080/",
          "height": 248
        },
        "id": "exXEYOMzYuvg",
        "outputId": "24da801d-67bf-46e0-8731-13b235287405"
      },
      "source": [
        "plot_decode_images(decoded_images)"
      ],
      "execution_count": 81,
      "outputs": [
        {
          "output_type": "display_data",
          "data": {
            "image/png": "[encoded data removed]",
            "text/plain": [
              "<Figure size 1440x288 with 20 Axes>"
            ]
          },
          "metadata": {
            "tags": [],
            "needs_background": "light"
          }
        }
      ]
    },
    {
      "cell_type": "code",
      "metadata": {
        "colab": {
          "base_uri": "https://localhost:8080/"
        },
        "id": "gC5uvcXZY8d2",
        "outputId": "92058156-c848-4b24-c492-338446b56abb"
      },
      "source": [
        "encoded_images.mean()"
      ],
      "execution_count": 82,
      "outputs": [
        {
          "output_type": "execute_result",
          "data": {
            "text/plain": [
              "7.675501"
            ]
          },
          "metadata": {
            "tags": []
          },
          "execution_count": 82
        }
      ]
    },
    {
      "cell_type": "code",
      "metadata": {
        "id": "fZPMe7amY_yZ"
      },
      "source": [
        "#convolution autoencoder\n",
        "\n",
        "import keras\n",
        "from keras import layers\n",
        "\n",
        "input_img = keras.Input(shape=(28, 28, 1))\n",
        "\n",
        "x = layers.Conv2D(16, (3, 3), activation='relu', padding='same')(input_img)\n",
        "x = layers.MaxPooling2D(pool_size=(2, 2), padding='same')(x)\n",
        "x = layers.Conv2D(8, (3, 3), activation='relu', padding='same')(x)\n",
        "x = layers.MaxPooling2D((2, 2), padding='same')(x)\n",
        "x = layers.Conv2D(8, (3, 3), activation='relu', padding='same')(x)\n",
        "encoded = layers.MaxPooling2D((2, 2), padding='same')(x)\n",
        "\n",
        "# at this point the representation is (4, 4, 8) i.e. 128-dimensional\n",
        "\n",
        "x = layers.Conv2D(8, (3, 3), activation='relu', padding='same')(encoded)\n",
        "x = layers.UpSampling2D((2, 2))(x)\n",
        "x = layers.Conv2D(8, (3, 3), activation='relu', padding='same')(x)\n",
        "x = layers.UpSampling2D((2, 2))(x)\n",
        "x = layers.Conv2D(16, (3, 3), activation='relu')(x)\n",
        "x = layers.UpSampling2D((2, 2))(x)\n",
        "decoded = layers.Conv2D(1, (3, 3), activation='sigmoid', padding='same')(x)\n",
        "\n",
        "autoencoder = keras.Model(input_img, decoded)\n",
        "autoencoder.compile(optimizer='adam', loss='binary_crossentropy')\n"
      ],
      "execution_count": 96,
      "outputs": []
    },
    {
      "cell_type": "code",
      "metadata": {
        "colab": {
          "base_uri": "https://localhost:8080/"
        },
        "id": "QH-lq0DmdnAV",
        "outputId": "da7be128-ab32-4515-9369-39b68061b7d2"
      },
      "source": [
        "autoencoder.summary()"
      ],
      "execution_count": 97,
      "outputs": [
        {
          "output_type": "stream",
          "text": [
            "Model: \"model_48\"\n",
            "_________________________________________________________________\n",
            "Layer (type)                 Output Shape              Param #   \n",
            "=================================================================\n",
            "input_25 (InputLayer)        [(None, 28, 28, 1)]       0         \n",
            "_________________________________________________________________\n",
            "conv2d_28 (Conv2D)           (None, 28, 28, 16)        160       \n",
            "_________________________________________________________________\n",
            "max_pooling2d_12 (MaxPooling (None, 14, 14, 16)        0         \n",
            "_________________________________________________________________\n",
            "conv2d_29 (Conv2D)           (None, 14, 14, 8)         1160      \n",
            "_________________________________________________________________\n",
            "max_pooling2d_13 (MaxPooling (None, 7, 7, 8)           0         \n",
            "_________________________________________________________________\n",
            "conv2d_30 (Conv2D)           (None, 7, 7, 8)           584       \n",
            "_________________________________________________________________\n",
            "max_pooling2d_14 (MaxPooling (None, 4, 4, 8)           0         \n",
            "_________________________________________________________________\n",
            "conv2d_31 (Conv2D)           (None, 4, 4, 8)           584       \n",
            "_________________________________________________________________\n",
            "up_sampling2d_12 (UpSampling (None, 8, 8, 8)           0         \n",
            "_________________________________________________________________\n",
            "conv2d_32 (Conv2D)           (None, 8, 8, 8)           584       \n",
            "_________________________________________________________________\n",
            "up_sampling2d_13 (UpSampling (None, 16, 16, 8)         0         \n",
            "_________________________________________________________________\n",
            "conv2d_33 (Conv2D)           (None, 14, 14, 16)        1168      \n",
            "_________________________________________________________________\n",
            "up_sampling2d_14 (UpSampling (None, 28, 28, 16)        0         \n",
            "_________________________________________________________________\n",
            "conv2d_34 (Conv2D)           (None, 28, 28, 1)         145       \n",
            "=================================================================\n",
            "Total params: 4,385\n",
            "Trainable params: 4,385\n",
            "Non-trainable params: 0\n",
            "_________________________________________________________________\n"
          ],
          "name": "stdout"
        }
      ]
    },
    {
      "cell_type": "code",
      "metadata": {
        "id": "MlAzUyYYdrG6"
      },
      "source": [
        "from keras.datasets import mnist\n",
        "import numpy as np\n",
        "\n",
        "(x_train, _), (x_test, _) = mnist.load_data()\n",
        "\n",
        "x_train = x_train.astype('float32') / 255.\n",
        "x_test = x_test.astype('float32') / 255.\n",
        "x_train = np.reshape(x_train, (len(x_train), 28, 28, 1))\n",
        "x_test = np.reshape(x_test, (len(x_test), 28, 28, 1))"
      ],
      "execution_count": 98,
      "outputs": []
    },
    {
      "cell_type": "code",
      "metadata": {
        "colab": {
          "base_uri": "https://localhost:8080/"
        },
        "id": "FjZDhmbvfj-X",
        "outputId": "07926fbf-36e2-4ef5-ea32-d280f2613884"
      },
      "source": [
        "from keras.callbacks import TensorBoard\n",
        "\n",
        "autoencoder.fit(x_train, x_train,\n",
        "                epochs=50,\n",
        "                batch_size=128,\n",
        "                shuffle=True,\n",
        "                validation_data=(x_test, x_test),\n",
        "                callbacks=[TensorBoard(log_dir='/tmp/autoencoder')])"
      ],
      "execution_count": null,
      "outputs": [
        {
          "output_type": "stream",
          "text": [
            "Epoch 1/50\n",
            "469/469 [==============================] - 79s 167ms/step - loss: 0.2249 - val_loss: 0.1470\n",
            "Epoch 2/50\n",
            "469/469 [==============================] - 78s 167ms/step - loss: 0.1366 - val_loss: 0.1271\n",
            "Epoch 3/50\n",
            "469/469 [==============================] - 78s 166ms/step - loss: 0.1239 - val_loss: 0.1190\n",
            "Epoch 4/50\n",
            "469/469 [==============================] - 77s 165ms/step - loss: 0.1177 - val_loss: 0.1144\n",
            "Epoch 5/50\n",
            "469/469 [==============================] - 77s 165ms/step - loss: 0.1139 - val_loss: 0.1108\n",
            "Epoch 6/50\n",
            "469/469 [==============================] - 78s 166ms/step - loss: 0.1110 - val_loss: 0.1085\n",
            "Epoch 7/50\n",
            "469/469 [==============================] - 77s 165ms/step - loss: 0.1090 - val_loss: 0.1068\n",
            "Epoch 8/50\n",
            " 46/469 [=>............................] - ETA: 1:06 - loss: 0.1078"
          ],
          "name": "stdout"
        }
      ]
    },
    {
      "cell_type": "code",
      "metadata": {
        "id": "Uw4Y6rWth8U1"
      },
      "source": [
        ""
      ],
      "execution_count": null,
      "outputs": []
    }
  ]
}